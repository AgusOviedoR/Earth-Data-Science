{
 "cells": [
  {
   "cell_type": "code",
   "execution_count": 4,
   "id": "a1e5fa99",
   "metadata": {},
   "outputs": [],
   "source": [
    "#Importing packages\n",
    "from matplotlib.axes._axes import _log as matplotlib_axes_logger\n",
    "import os\n",
    "import matplotlib.pyplot as plt\n",
    "import seaborn as sns\n",
    "import pandas as pd\n",
    "import earthpy as et\n",
    "\n",
    "#Handle date time conversions matplotlib-pandas\n",
    "from pandas.plotting import register_matplotlib_converters\n",
    "register_matplotlib_converters()\n",
    "#Handling error from the plots\n",
    "matplotlib_axes_logger.setLevel('ERROR')\n",
    "import warnings\n",
    "warnings.filterwarnings('ignore')\n",
    "\n",
    "#Font size configuration\n",
    "sns.set(font_scale = 1.5, style = 'whitegrid')"
   ]
  },
  {
   "cell_type": "code",
   "execution_count": 7,
   "id": "7a1e5776",
   "metadata": {},
   "outputs": [],
   "source": [
    "path = os.path.join(et.io.HOME, 'earth-analytics','data')\n",
    "os.chdir(path)"
   ]
  },
  {
   "cell_type": "code",
   "execution_count": 11,
   "id": "e583dd6e",
   "metadata": {},
   "outputs": [
    {
     "data": {
      "text/html": [
       "<div>\n",
       "<style scoped>\n",
       "    .dataframe tbody tr th:only-of-type {\n",
       "        vertical-align: middle;\n",
       "    }\n",
       "\n",
       "    .dataframe tbody tr th {\n",
       "        vertical-align: top;\n",
       "    }\n",
       "\n",
       "    .dataframe thead th {\n",
       "        text-align: right;\n",
       "    }\n",
       "</style>\n",
       "<table border=\"1\" class=\"dataframe\">\n",
       "  <thead>\n",
       "    <tr style=\"text-align: right;\">\n",
       "      <th></th>\n",
       "      <th>STATION</th>\n",
       "      <th>STATION_NAME</th>\n",
       "      <th>ELEVATION</th>\n",
       "      <th>LATITUDE</th>\n",
       "      <th>LONGITUDE</th>\n",
       "      <th>DATE</th>\n",
       "      <th>HPCP</th>\n",
       "      <th>Measurement Flag</th>\n",
       "      <th>Quality Flag</th>\n",
       "    </tr>\n",
       "  </thead>\n",
       "  <tbody>\n",
       "    <tr>\n",
       "      <th>0</th>\n",
       "      <td>COOP:050843</td>\n",
       "      <td>BOULDER 2 CO US</td>\n",
       "      <td>1650.5</td>\n",
       "      <td>40.03389</td>\n",
       "      <td>-105.28111</td>\n",
       "      <td>20030101 01:00</td>\n",
       "      <td>0.0</td>\n",
       "      <td>g</td>\n",
       "      <td></td>\n",
       "    </tr>\n",
       "    <tr>\n",
       "      <th>1</th>\n",
       "      <td>COOP:050843</td>\n",
       "      <td>BOULDER 2 CO US</td>\n",
       "      <td>1650.5</td>\n",
       "      <td>40.03389</td>\n",
       "      <td>-105.28111</td>\n",
       "      <td>20030201 01:00</td>\n",
       "      <td>0.0</td>\n",
       "      <td>g</td>\n",
       "      <td></td>\n",
       "    </tr>\n",
       "    <tr>\n",
       "      <th>2</th>\n",
       "      <td>COOP:050843</td>\n",
       "      <td>BOULDER 2 CO US</td>\n",
       "      <td>1650.5</td>\n",
       "      <td>40.03389</td>\n",
       "      <td>-105.28111</td>\n",
       "      <td>20030202 19:00</td>\n",
       "      <td>0.2</td>\n",
       "      <td></td>\n",
       "      <td></td>\n",
       "    </tr>\n",
       "    <tr>\n",
       "      <th>3</th>\n",
       "      <td>COOP:050843</td>\n",
       "      <td>BOULDER 2 CO US</td>\n",
       "      <td>1650.5</td>\n",
       "      <td>40.03389</td>\n",
       "      <td>-105.28111</td>\n",
       "      <td>20030202 22:00</td>\n",
       "      <td>0.1</td>\n",
       "      <td></td>\n",
       "      <td></td>\n",
       "    </tr>\n",
       "    <tr>\n",
       "      <th>4</th>\n",
       "      <td>COOP:050843</td>\n",
       "      <td>BOULDER 2 CO US</td>\n",
       "      <td>1650.5</td>\n",
       "      <td>40.03389</td>\n",
       "      <td>-105.28111</td>\n",
       "      <td>20030203 02:00</td>\n",
       "      <td>0.1</td>\n",
       "      <td></td>\n",
       "      <td></td>\n",
       "    </tr>\n",
       "  </tbody>\n",
       "</table>\n",
       "</div>"
      ],
      "text/plain": [
       "       STATION     STATION_NAME  ELEVATION  LATITUDE  LONGITUDE  \\\n",
       "0  COOP:050843  BOULDER 2 CO US     1650.5  40.03389 -105.28111   \n",
       "1  COOP:050843  BOULDER 2 CO US     1650.5  40.03389 -105.28111   \n",
       "2  COOP:050843  BOULDER 2 CO US     1650.5  40.03389 -105.28111   \n",
       "3  COOP:050843  BOULDER 2 CO US     1650.5  40.03389 -105.28111   \n",
       "4  COOP:050843  BOULDER 2 CO US     1650.5  40.03389 -105.28111   \n",
       "\n",
       "             DATE  HPCP Measurement Flag Quality Flag  \n",
       "0  20030101 01:00   0.0                g               \n",
       "1  20030201 01:00   0.0                g               \n",
       "2  20030202 19:00   0.2                                \n",
       "3  20030202 22:00   0.1                                \n",
       "4  20030203 02:00   0.1                                "
      ]
     },
     "execution_count": 11,
     "metadata": {},
     "output_type": "execute_result"
    }
   ],
   "source": [
    "file_path = os.path.join('earthpy-downloads', 'colorado-flood',\n",
    "                        'precipitation',\n",
    "                        '805325-precip-daily-2003-2013.csv')\n",
    "\n",
    "#Importing file as a panda dataframe\n",
    "boulder_precip_2003_2013 = pd.read_csv(file_path)\n",
    "boulder_precip_2003_2013.head()"
   ]
  },
  {
   "cell_type": "code",
   "execution_count": 12,
   "id": "4921abd2",
   "metadata": {},
   "outputs": [
    {
     "data": {
      "image/png": "[encoded data removed]",
      "text/plain": [
       "<Figure size 432x288 with 1 Axes>"
      ]
     },
     "metadata": {
      "needs_background": "light"
     },
     "output_type": "display_data"
    }
   ],
   "source": [
    "#Plotting the data\n",
    "boulder_precip_2003_2013.plot(x='DATE',\n",
    "                             y = 'HPCP',\n",
    "                             title = 'Daily Precipitation')\n",
    "plt.show()"
   ]
  },
  {
   "cell_type": "code",
   "execution_count": 15,
   "id": "9642931c",
   "metadata": {},
   "outputs": [
    {
     "data": {
      "text/plain": [
       "count    1840.000000\n",
       "mean       51.192587\n",
       "std       220.208147\n",
       "min         0.000000\n",
       "25%         0.100000\n",
       "50%         0.100000\n",
       "75%         0.100000\n",
       "max       999.990000\n",
       "Name: HPCP, dtype: float64"
      ]
     },
     "execution_count": 15,
     "metadata": {},
     "output_type": "execute_result"
    }
   ],
   "source": [
    "boulder_precip_2003_2013['HPCP'].describe()"
   ]
  },
  {
   "cell_type": "code",
   "execution_count": 16,
   "id": "e0e0f6e2",
   "metadata": {},
   "outputs": [
    {
     "data": {
      "text/plain": [
       "STATION              object\n",
       "STATION_NAME         object\n",
       "ELEVATION           float64\n",
       "LATITUDE            float64\n",
       "LONGITUDE           float64\n",
       "DATE                 object\n",
       "HPCP                float64\n",
       "Measurement Flag     object\n",
       "Quality Flag         object\n",
       "dtype: object"
      ]
     },
     "execution_count": 16,
     "metadata": {},
     "output_type": "execute_result"
    }
   ],
   "source": [
    "boulder_precip_2003_2013.dtypes"
   ]
  },
  {
   "cell_type": "code",
   "execution_count": 17,
   "id": "054f1b63",
   "metadata": {},
   "outputs": [
    {
     "data": {
      "text/html": [
       "<div>\n",
       "<style scoped>\n",
       "    .dataframe tbody tr th:only-of-type {\n",
       "        vertical-align: middle;\n",
       "    }\n",
       "\n",
       "    .dataframe tbody tr th {\n",
       "        vertical-align: top;\n",
       "    }\n",
       "\n",
       "    .dataframe thead th {\n",
       "        text-align: right;\n",
       "    }\n",
       "</style>\n",
       "<table border=\"1\" class=\"dataframe\">\n",
       "  <thead>\n",
       "    <tr style=\"text-align: right;\">\n",
       "      <th></th>\n",
       "      <th>STATION</th>\n",
       "      <th>STATION_NAME</th>\n",
       "      <th>ELEVATION</th>\n",
       "      <th>LATITUDE</th>\n",
       "      <th>LONGITUDE</th>\n",
       "      <th>HPCP</th>\n",
       "      <th>Measurement Flag</th>\n",
       "      <th>Quality Flag</th>\n",
       "    </tr>\n",
       "    <tr>\n",
       "      <th>DATE</th>\n",
       "      <th></th>\n",
       "      <th></th>\n",
       "      <th></th>\n",
       "      <th></th>\n",
       "      <th></th>\n",
       "      <th></th>\n",
       "      <th></th>\n",
       "      <th></th>\n",
       "    </tr>\n",
       "  </thead>\n",
       "  <tbody>\n",
       "    <tr>\n",
       "      <th>2003-01-01 01:00:00</th>\n",
       "      <td>COOP:050843</td>\n",
       "      <td>BOULDER 2 CO US</td>\n",
       "      <td>1650.5</td>\n",
       "      <td>40.03389</td>\n",
       "      <td>-105.28111</td>\n",
       "      <td>0.0</td>\n",
       "      <td>g</td>\n",
       "      <td></td>\n",
       "    </tr>\n",
       "    <tr>\n",
       "      <th>2003-02-01 01:00:00</th>\n",
       "      <td>COOP:050843</td>\n",
       "      <td>BOULDER 2 CO US</td>\n",
       "      <td>1650.5</td>\n",
       "      <td>40.03389</td>\n",
       "      <td>-105.28111</td>\n",
       "      <td>0.0</td>\n",
       "      <td>g</td>\n",
       "      <td></td>\n",
       "    </tr>\n",
       "    <tr>\n",
       "      <th>2003-02-02 19:00:00</th>\n",
       "      <td>COOP:050843</td>\n",
       "      <td>BOULDER 2 CO US</td>\n",
       "      <td>1650.5</td>\n",
       "      <td>40.03389</td>\n",
       "      <td>-105.28111</td>\n",
       "      <td>0.2</td>\n",
       "      <td></td>\n",
       "      <td></td>\n",
       "    </tr>\n",
       "    <tr>\n",
       "      <th>2003-02-02 22:00:00</th>\n",
       "      <td>COOP:050843</td>\n",
       "      <td>BOULDER 2 CO US</td>\n",
       "      <td>1650.5</td>\n",
       "      <td>40.03389</td>\n",
       "      <td>-105.28111</td>\n",
       "      <td>0.1</td>\n",
       "      <td></td>\n",
       "      <td></td>\n",
       "    </tr>\n",
       "    <tr>\n",
       "      <th>2003-02-03 02:00:00</th>\n",
       "      <td>COOP:050843</td>\n",
       "      <td>BOULDER 2 CO US</td>\n",
       "      <td>1650.5</td>\n",
       "      <td>40.03389</td>\n",
       "      <td>-105.28111</td>\n",
       "      <td>0.1</td>\n",
       "      <td></td>\n",
       "      <td></td>\n",
       "    </tr>\n",
       "  </tbody>\n",
       "</table>\n",
       "</div>"
      ],
      "text/plain": [
       "                         STATION     STATION_NAME  ELEVATION  LATITUDE  \\\n",
       "DATE                                                                     \n",
       "2003-01-01 01:00:00  COOP:050843  BOULDER 2 CO US     1650.5  40.03389   \n",
       "2003-02-01 01:00:00  COOP:050843  BOULDER 2 CO US     1650.5  40.03389   \n",
       "2003-02-02 19:00:00  COOP:050843  BOULDER 2 CO US     1650.5  40.03389   \n",
       "2003-02-02 22:00:00  COOP:050843  BOULDER 2 CO US     1650.5  40.03389   \n",
       "2003-02-03 02:00:00  COOP:050843  BOULDER 2 CO US     1650.5  40.03389   \n",
       "\n",
       "                     LONGITUDE  HPCP Measurement Flag Quality Flag  \n",
       "DATE                                                                \n",
       "2003-01-01 01:00:00 -105.28111   0.0                g               \n",
       "2003-02-01 01:00:00 -105.28111   0.0                g               \n",
       "2003-02-02 19:00:00 -105.28111   0.2                                \n",
       "2003-02-02 22:00:00 -105.28111   0.1                                \n",
       "2003-02-03 02:00:00 -105.28111   0.1                                "
      ]
     },
     "execution_count": 17,
     "metadata": {},
     "output_type": "execute_result"
    }
   ],
   "source": [
    "##Dealing with the no data and the datetime issues\n",
    "#Importing data using datetime and no data value\n",
    "boulder_precip_2003_2013 = pd.read_csv(file_path,\n",
    "                                      parse_dates = ['DATE'],\n",
    "                                      index_col = ['DATE'],\n",
    "                                      na_values =['999.99'])\n",
    "boulder_precip_2003_2013.head()"
   ]
  },
  {
   "cell_type": "code",
   "execution_count": 18,
   "id": "10173235",
   "metadata": {},
   "outputs": [
    {
     "data": {
      "text/html": [
       "<div>\n",
       "<style scoped>\n",
       "    .dataframe tbody tr th:only-of-type {\n",
       "        vertical-align: middle;\n",
       "    }\n",
       "\n",
       "    .dataframe tbody tr th {\n",
       "        vertical-align: top;\n",
       "    }\n",
       "\n",
       "    .dataframe thead th {\n",
       "        text-align: right;\n",
       "    }\n",
       "</style>\n",
       "<table border=\"1\" class=\"dataframe\">\n",
       "  <thead>\n",
       "    <tr style=\"text-align: right;\">\n",
       "      <th></th>\n",
       "      <th>ELEVATION</th>\n",
       "      <th>LATITUDE</th>\n",
       "      <th>LONGITUDE</th>\n",
       "      <th>HPCP</th>\n",
       "    </tr>\n",
       "  </thead>\n",
       "  <tbody>\n",
       "    <tr>\n",
       "      <th>count</th>\n",
       "      <td>1840.0</td>\n",
       "      <td>1840.000000</td>\n",
       "      <td>1840.000000</td>\n",
       "      <td>1746.000000</td>\n",
       "    </tr>\n",
       "    <tr>\n",
       "      <th>mean</th>\n",
       "      <td>1650.5</td>\n",
       "      <td>40.033851</td>\n",
       "      <td>-105.281106</td>\n",
       "      <td>0.111856</td>\n",
       "    </tr>\n",
       "    <tr>\n",
       "      <th>std</th>\n",
       "      <td>0.0</td>\n",
       "      <td>0.000045</td>\n",
       "      <td>0.000005</td>\n",
       "      <td>0.093222</td>\n",
       "    </tr>\n",
       "    <tr>\n",
       "      <th>min</th>\n",
       "      <td>1650.5</td>\n",
       "      <td>40.033800</td>\n",
       "      <td>-105.281110</td>\n",
       "      <td>0.000000</td>\n",
       "    </tr>\n",
       "    <tr>\n",
       "      <th>25%</th>\n",
       "      <td>1650.5</td>\n",
       "      <td>40.033800</td>\n",
       "      <td>-105.281110</td>\n",
       "      <td>0.100000</td>\n",
       "    </tr>\n",
       "    <tr>\n",
       "      <th>50%</th>\n",
       "      <td>1650.5</td>\n",
       "      <td>40.033890</td>\n",
       "      <td>-105.281110</td>\n",
       "      <td>0.100000</td>\n",
       "    </tr>\n",
       "    <tr>\n",
       "      <th>75%</th>\n",
       "      <td>1650.5</td>\n",
       "      <td>40.033890</td>\n",
       "      <td>-105.281100</td>\n",
       "      <td>0.100000</td>\n",
       "    </tr>\n",
       "    <tr>\n",
       "      <th>max</th>\n",
       "      <td>1650.5</td>\n",
       "      <td>40.033890</td>\n",
       "      <td>-105.281100</td>\n",
       "      <td>2.200000</td>\n",
       "    </tr>\n",
       "  </tbody>\n",
       "</table>\n",
       "</div>"
      ],
      "text/plain": [
       "       ELEVATION     LATITUDE    LONGITUDE         HPCP\n",
       "count     1840.0  1840.000000  1840.000000  1746.000000\n",
       "mean      1650.5    40.033851  -105.281106     0.111856\n",
       "std          0.0     0.000045     0.000005     0.093222\n",
       "min       1650.5    40.033800  -105.281110     0.000000\n",
       "25%       1650.5    40.033800  -105.281110     0.100000\n",
       "50%       1650.5    40.033890  -105.281110     0.100000\n",
       "75%       1650.5    40.033890  -105.281100     0.100000\n",
       "max       1650.5    40.033890  -105.281100     2.200000"
      ]
     },
     "execution_count": 18,
     "metadata": {},
     "output_type": "execute_result"
    }
   ],
   "source": [
    "#summary\n",
    "boulder_precip_2003_2013.describe() #La salida no incluye la columna indexada"
   ]
  },
  {
   "cell_type": "code",
   "execution_count": 19,
   "id": "a015cd28",
   "metadata": {},
   "outputs": [
    {
     "data": {
      "text/plain": [
       "DatetimeIndex(['2003-01-01 01:00:00', '2003-02-01 01:00:00',\n",
       "               '2003-02-02 19:00:00', '2003-02-02 22:00:00',\n",
       "               '2003-02-03 02:00:00', '2003-02-05 02:00:00',\n",
       "               '2003-02-05 08:00:00', '2003-02-06 00:00:00',\n",
       "               '2003-02-07 12:00:00', '2003-02-10 13:00:00',\n",
       "               ...\n",
       "               '2013-12-01 01:00:00', '2013-12-03 20:00:00',\n",
       "               '2013-12-04 03:00:00', '2013-12-04 06:00:00',\n",
       "               '2013-12-04 09:00:00', '2013-12-22 01:00:00',\n",
       "               '2013-12-23 00:00:00', '2013-12-23 02:00:00',\n",
       "               '2013-12-29 01:00:00', '2013-12-31 00:00:00'],\n",
       "              dtype='datetime64[ns]', name='DATE', length=1840, freq=None)"
      ]
     },
     "execution_count": 19,
     "metadata": {},
     "output_type": "execute_result"
    }
   ],
   "source": [
    "##Accessing the index column\n",
    "boulder_precip_2003_2013.index\n",
    "#Se puede resetear el index utilizando .reset_index()"
   ]
  },
  {
   "cell_type": "code",
   "execution_count": 20,
   "id": "61603c05",
   "metadata": {},
   "outputs": [
    {
     "data": {
      "image/png": "[encoded data removed]",
      "text/plain": [
       "<Figure size 432x288 with 1 Axes>"
      ]
     },
     "metadata": {
      "needs_background": "light"
     },
     "output_type": "display_data"
    }
   ],
   "source": [
    "boulder_precip_2003_2013.plot(y = 'HPCP',\n",
    "                             title='Hourly Precipitation')\n",
    "plt.show()"
   ]
  },
  {
   "cell_type": "code",
   "execution_count": 21,
   "id": "6c2ef3f3",
   "metadata": {},
   "outputs": [
    {
     "data": {
      "text/html": [
       "<div>\n",
       "<style scoped>\n",
       "    .dataframe tbody tr th:only-of-type {\n",
       "        vertical-align: middle;\n",
       "    }\n",
       "\n",
       "    .dataframe tbody tr th {\n",
       "        vertical-align: top;\n",
       "    }\n",
       "\n",
       "    .dataframe thead th {\n",
       "        text-align: right;\n",
       "    }\n",
       "</style>\n",
       "<table border=\"1\" class=\"dataframe\">\n",
       "  <thead>\n",
       "    <tr style=\"text-align: right;\">\n",
       "      <th></th>\n",
       "      <th>STATION</th>\n",
       "      <th>STATION_NAME</th>\n",
       "      <th>ELEVATION</th>\n",
       "      <th>LATITUDE</th>\n",
       "      <th>LONGITUDE</th>\n",
       "      <th>HPCP</th>\n",
       "      <th>Measurement Flag</th>\n",
       "      <th>Quality Flag</th>\n",
       "    </tr>\n",
       "    <tr>\n",
       "      <th>DATE</th>\n",
       "      <th></th>\n",
       "      <th></th>\n",
       "      <th></th>\n",
       "      <th></th>\n",
       "      <th></th>\n",
       "      <th></th>\n",
       "      <th></th>\n",
       "      <th></th>\n",
       "    </tr>\n",
       "  </thead>\n",
       "  <tbody>\n",
       "    <tr>\n",
       "      <th>2005-01-01 01:00:00</th>\n",
       "      <td>COOP:050843</td>\n",
       "      <td>BOULDER 2 CO US</td>\n",
       "      <td>1650.5</td>\n",
       "      <td>40.03389</td>\n",
       "      <td>-105.28111</td>\n",
       "      <td>0.0</td>\n",
       "      <td>g</td>\n",
       "      <td></td>\n",
       "    </tr>\n",
       "    <tr>\n",
       "      <th>2005-01-02 06:00:00</th>\n",
       "      <td>COOP:050843</td>\n",
       "      <td>BOULDER 2 CO US</td>\n",
       "      <td>1650.5</td>\n",
       "      <td>40.03389</td>\n",
       "      <td>-105.28111</td>\n",
       "      <td>NaN</td>\n",
       "      <td>{</td>\n",
       "      <td></td>\n",
       "    </tr>\n",
       "    <tr>\n",
       "      <th>2005-01-02 08:00:00</th>\n",
       "      <td>COOP:050843</td>\n",
       "      <td>BOULDER 2 CO US</td>\n",
       "      <td>1650.5</td>\n",
       "      <td>40.03389</td>\n",
       "      <td>-105.28111</td>\n",
       "      <td>NaN</td>\n",
       "      <td>}</td>\n",
       "      <td></td>\n",
       "    </tr>\n",
       "    <tr>\n",
       "      <th>2005-01-05 08:00:00</th>\n",
       "      <td>COOP:050843</td>\n",
       "      <td>BOULDER 2 CO US</td>\n",
       "      <td>1650.5</td>\n",
       "      <td>40.03389</td>\n",
       "      <td>-105.28111</td>\n",
       "      <td>0.1</td>\n",
       "      <td></td>\n",
       "      <td></td>\n",
       "    </tr>\n",
       "    <tr>\n",
       "      <th>2005-01-12 04:00:00</th>\n",
       "      <td>COOP:050843</td>\n",
       "      <td>BOULDER 2 CO US</td>\n",
       "      <td>1650.5</td>\n",
       "      <td>40.03389</td>\n",
       "      <td>-105.28111</td>\n",
       "      <td>0.1</td>\n",
       "      <td></td>\n",
       "      <td></td>\n",
       "    </tr>\n",
       "  </tbody>\n",
       "</table>\n",
       "</div>"
      ],
      "text/plain": [
       "                         STATION     STATION_NAME  ELEVATION  LATITUDE  \\\n",
       "DATE                                                                     \n",
       "2005-01-01 01:00:00  COOP:050843  BOULDER 2 CO US     1650.5  40.03389   \n",
       "2005-01-02 06:00:00  COOP:050843  BOULDER 2 CO US     1650.5  40.03389   \n",
       "2005-01-02 08:00:00  COOP:050843  BOULDER 2 CO US     1650.5  40.03389   \n",
       "2005-01-05 08:00:00  COOP:050843  BOULDER 2 CO US     1650.5  40.03389   \n",
       "2005-01-12 04:00:00  COOP:050843  BOULDER 2 CO US     1650.5  40.03389   \n",
       "\n",
       "                     LONGITUDE  HPCP Measurement Flag Quality Flag  \n",
       "DATE                                                                \n",
       "2005-01-01 01:00:00 -105.28111   0.0                g               \n",
       "2005-01-02 06:00:00 -105.28111   NaN                {               \n",
       "2005-01-02 08:00:00 -105.28111   NaN                }               \n",
       "2005-01-05 08:00:00 -105.28111   0.1                                \n",
       "2005-01-12 04:00:00 -105.28111   0.1                                "
      ]
     },
     "execution_count": 21,
     "metadata": {},
     "output_type": "execute_result"
    }
   ],
   "source": [
    "##Subsetting data\n",
    "precip_2005 = boulder_precip_2003_2013['2005']\n",
    "precip_2005.head()"
   ]
  },
  {
   "cell_type": "code",
   "execution_count": 22,
   "id": "293e015f",
   "metadata": {},
   "outputs": [
    {
     "data": {
      "image/png": "[encoded data removed]",
      "text/plain": [
       "<Figure size 432x288 with 1 Axes>"
      ]
     },
     "metadata": {
      "needs_background": "light"
     },
     "output_type": "display_data"
    }
   ],
   "source": [
    "##Cleaning the data\n",
    "precip_2005_clean = precip_2005.dropna()\n",
    "precip_2005_clean.reset_index().plot(x = 'DATE',\n",
    "                                    y = 'HPCP',\n",
    "                                    title = 'Hourly Precipitation',\n",
    "                                    kind = 'scatter')\n",
    "plt.show()"
   ]
  },
  {
   "cell_type": "code",
   "execution_count": 23,
   "id": "12f47f12",
   "metadata": {},
   "outputs": [
    {
     "data": {
      "image/png": "[encoded data removed]",
      "text/plain": [
       "<Figure size 432x288 with 1 Axes>"
      ]
     },
     "metadata": {
      "needs_background": "light"
     },
     "output_type": "display_data"
    }
   ],
   "source": [
    "#Plot using matplotlib\n",
    "f, ax = plt.subplots()\n",
    "ax.scatter(x=precip_2005_clean.index.values,\n",
    "          y = precip_2005_clean['HPCP'])\n",
    "plt.show()"
   ]
  },
  {
   "cell_type": "code",
   "execution_count": 24,
   "id": "b2be12a1",
   "metadata": {},
   "outputs": [
    {
     "data": {
      "image/png": "[encoded data removed]",
      "text/plain": [
       "<Figure size 432x288 with 1 Axes>"
      ]
     },
     "metadata": {
      "needs_background": "light"
     },
     "output_type": "display_data"
    }
   ],
   "source": [
    "#Resample\n",
    "precip_2005_daily = precip_2005.resample('D').sum()\n",
    "\n",
    "#Plot\n",
    "f, ax = plt.subplots()\n",
    "ax.scatter(x=precip_2005_daily.index.values,\n",
    "          y = precip_2005_daily['HPCP'])\n",
    "plt.show()"
   ]
  },
  {
   "cell_type": "code",
   "execution_count": 28,
   "id": "8f24896d",
   "metadata": {},
   "outputs": [
    {
     "data": {
      "text/html": [
       "<div>\n",
       "<style scoped>\n",
       "    .dataframe tbody tr th:only-of-type {\n",
       "        vertical-align: middle;\n",
       "    }\n",
       "\n",
       "    .dataframe tbody tr th {\n",
       "        vertical-align: top;\n",
       "    }\n",
       "\n",
       "    .dataframe thead th {\n",
       "        text-align: right;\n",
       "    }\n",
       "</style>\n",
       "<table border=\"1\" class=\"dataframe\">\n",
       "  <thead>\n",
       "    <tr style=\"text-align: right;\">\n",
       "      <th></th>\n",
       "      <th>STATION</th>\n",
       "      <th>STATION_NAME</th>\n",
       "      <th>ELEVATION</th>\n",
       "      <th>LATITUDE</th>\n",
       "      <th>LONGITUDE</th>\n",
       "      <th>HPCP</th>\n",
       "      <th>Measurement Flag</th>\n",
       "      <th>Quality Flag</th>\n",
       "    </tr>\n",
       "    <tr>\n",
       "      <th>DATE</th>\n",
       "      <th></th>\n",
       "      <th></th>\n",
       "      <th></th>\n",
       "      <th></th>\n",
       "      <th></th>\n",
       "      <th></th>\n",
       "      <th></th>\n",
       "      <th></th>\n",
       "    </tr>\n",
       "  </thead>\n",
       "  <tbody>\n",
       "    <tr>\n",
       "      <th>2012-01-01 01:00:00</th>\n",
       "      <td>COOP:050843</td>\n",
       "      <td>BOULDER 2 CO US</td>\n",
       "      <td>1650.5</td>\n",
       "      <td>40.0338</td>\n",
       "      <td>-105.2811</td>\n",
       "      <td>0.0</td>\n",
       "      <td>g</td>\n",
       "      <td></td>\n",
       "    </tr>\n",
       "    <tr>\n",
       "      <th>2012-02-01 01:00:00</th>\n",
       "      <td>COOP:050843</td>\n",
       "      <td>BOULDER 2 CO US</td>\n",
       "      <td>1650.5</td>\n",
       "      <td>40.0338</td>\n",
       "      <td>-105.2811</td>\n",
       "      <td>0.1</td>\n",
       "      <td></td>\n",
       "      <td></td>\n",
       "    </tr>\n",
       "    <tr>\n",
       "      <th>2012-02-23 03:00:00</th>\n",
       "      <td>COOP:050843</td>\n",
       "      <td>BOULDER 2 CO US</td>\n",
       "      <td>1650.5</td>\n",
       "      <td>40.0338</td>\n",
       "      <td>-105.2811</td>\n",
       "      <td>0.1</td>\n",
       "      <td></td>\n",
       "      <td></td>\n",
       "    </tr>\n",
       "    <tr>\n",
       "      <th>2012-02-23 05:00:00</th>\n",
       "      <td>COOP:050843</td>\n",
       "      <td>BOULDER 2 CO US</td>\n",
       "      <td>1650.5</td>\n",
       "      <td>40.0338</td>\n",
       "      <td>-105.2811</td>\n",
       "      <td>0.1</td>\n",
       "      <td></td>\n",
       "      <td></td>\n",
       "    </tr>\n",
       "    <tr>\n",
       "      <th>2012-03-01 01:00:00</th>\n",
       "      <td>COOP:050843</td>\n",
       "      <td>BOULDER 2 CO US</td>\n",
       "      <td>1650.5</td>\n",
       "      <td>40.0338</td>\n",
       "      <td>-105.2811</td>\n",
       "      <td>0.0</td>\n",
       "      <td>g</td>\n",
       "      <td></td>\n",
       "    </tr>\n",
       "  </tbody>\n",
       "</table>\n",
       "</div>"
      ],
      "text/plain": [
       "                         STATION     STATION_NAME  ELEVATION  LATITUDE  \\\n",
       "DATE                                                                     \n",
       "2012-01-01 01:00:00  COOP:050843  BOULDER 2 CO US     1650.5   40.0338   \n",
       "2012-02-01 01:00:00  COOP:050843  BOULDER 2 CO US     1650.5   40.0338   \n",
       "2012-02-23 03:00:00  COOP:050843  BOULDER 2 CO US     1650.5   40.0338   \n",
       "2012-02-23 05:00:00  COOP:050843  BOULDER 2 CO US     1650.5   40.0338   \n",
       "2012-03-01 01:00:00  COOP:050843  BOULDER 2 CO US     1650.5   40.0338   \n",
       "\n",
       "                     LONGITUDE  HPCP Measurement Flag Quality Flag  \n",
       "DATE                                                                \n",
       "2012-01-01 01:00:00  -105.2811   0.0                g               \n",
       "2012-02-01 01:00:00  -105.2811   0.1                                \n",
       "2012-02-23 03:00:00  -105.2811   0.1                                \n",
       "2012-02-23 05:00:00  -105.2811   0.1                                \n",
       "2012-03-01 01:00:00  -105.2811   0.0                g               "
      ]
     },
     "execution_count": 28,
     "metadata": {},
     "output_type": "execute_result"
    }
   ],
   "source": [
    "##Multiple axes\n",
    "#Data from 2012\n",
    "precip_2012 = boulder_precip_2003_2013['2012'].dropna()\n",
    "precip_2013 = boulder_precip_2003_2013['2013'].dropna()\n",
    "precip_2012.head()"
   ]
  },
  {
   "cell_type": "code",
   "execution_count": 43,
   "id": "9cfb439d",
   "metadata": {},
   "outputs": [
    {
     "data": {
      "image/png": "[encoded data removed]",
      "text/plain": [
       "<Figure size 720x720 with 2 Axes>"
      ]
     },
     "metadata": {
      "needs_background": "light"
     },
     "output_type": "display_data"
    }
   ],
   "source": [
    "#Resampling\n",
    "precip_2012_hourly = precip_2012.resample('h').sum()\n",
    "precip_2013_hourly = precip_2013.resample('h').sum()\n",
    "\n",
    "#Plot\n",
    "f, (ax1, ax2) = plt.subplots(2,1, figsize = (10,10))\n",
    "ax1.scatter(x = precip_2012_hourly.index.values,\n",
    "           y = precip_2012_hourly['HPCP'],color='green')\n",
    "ax1.set(ylim=[0,2],title='2012')\n",
    "ax2.scatter(x = precip_2013_hourly.index.values,\n",
    "           y= precip_2013_hourly['HPCP'],color='green')\n",
    "ax2.set(ylim=[0,2],title='2013')\n",
    "plt.show()"
   ]
  },
  {
   "cell_type": "code",
   "execution_count": 46,
   "id": "4556d354",
   "metadata": {},
   "outputs": [
    {
     "data": {
      "image/png": "[encoded data removed]",
      "text/plain": [
       "<Figure size 720x720 with 1 Axes>"
      ]
     },
     "metadata": {
      "needs_background": "light"
     },
     "output_type": "display_data"
    }
   ],
   "source": [
    "#Subset September to November\n",
    "precip_sep_nov_2013 = boulder_precip_2003_2013['2013-09-01':'2013-11-01'].dropna()\n",
    "precip_sep_nov_2013_hourly = precip_sep_nov_2013.resample('h').sum()\n",
    "\n",
    "f, ax = plt.subplots(figsize = (10,10))\n",
    "ax.scatter(x = precip_sep_nov_2013_hourly.index.values,\n",
    "          y = precip_sep_nov_2013_hourly['HPCP'], color = 'green')\n",
    "ax.set(ylim = [0,2], title='Precipitation Sept 1 - Nov 1 2013')\n",
    "plt.show()"
   ]
  },
  {
   "cell_type": "code",
   "execution_count": 50,
   "id": "ee6fbc7b",
   "metadata": {},
   "outputs": [
    {
     "data": {
      "image/png": "[encoded data removed]",
      "text/plain": [
       "<Figure size 720x720 with 1 Axes>"
      ]
     },
     "metadata": {
      "needs_background": "light"
     },
     "output_type": "display_data"
    }
   ],
   "source": [
    "from matplotlib.dates import DateFormatter\n",
    "flood_data = boulder_precip_2003_2013['2013-09-01':'2013-11-01']\n",
    "\n",
    "f, ax = plt.subplots(figsize = (10,10))\n",
    "ax.scatter(x = flood_data.index.values,\n",
    "          y = flood_data['HPCP'],color= 'pink')\n",
    "\n",
    "date_form = DateFormatter('%m-%d')\n",
    "ax.xaxis.set_major_formatter(date_form)\n",
    "ax.set(title='Precipitation Sept - Nov 2013 \\n Formatted Dates')\n",
    "plt.show()"
   ]
  }
 ],
 "metadata": {
  "kernelspec": {
   "display_name": "Python 3 (ipykernel)",
   "language": "python",
   "name": "python3"
  },
  "language_info": {
   "codemirror_mode": {
    "name": "ipython",
    "version": 3
   },
   "file_extension": ".py",
   "mimetype": "text/x-python",
   "name": "python",
   "nbconvert_exporter": "python",
   "pygments_lexer": "ipython3",
   "version": "3.8.13"
  }
 },
 "nbformat": 4,
 "nbformat_minor": 5
}
