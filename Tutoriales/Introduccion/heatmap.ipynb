{
 "cells": [
  {
   "cell_type": "code",
   "execution_count": 3,
   "id": "52e03592",
   "metadata": {},
   "outputs": [],
   "source": [
    "#Importando librerias\n",
    "import os\n",
    "import pandas as pd\n",
    "import geopandas as gpd\n",
    "import numpy as np\n",
    "from scipy import ndimage\n",
    "import earthpy as et\n",
    "import matplotlib.pylab as pylab\n",
    "import matplotlib.pyplot as plt\n",
    "pylab.rcParams['figure.figsize'] = 8, 6"
   ]
  },
  {
   "cell_type": "code",
   "execution_count": 12,
   "id": "7961ad12",
   "metadata": {},
   "outputs": [
    {
     "data": {
      "text/html": [
       "<div>\n",
       "<style scoped>\n",
       "    .dataframe tbody tr th:only-of-type {\n",
       "        vertical-align: middle;\n",
       "    }\n",
       "\n",
       "    .dataframe tbody tr th {\n",
       "        vertical-align: top;\n",
       "    }\n",
       "\n",
       "    .dataframe thead th {\n",
       "        text-align: right;\n",
       "    }\n",
       "</style>\n",
       "<table border=\"1\" class=\"dataframe\">\n",
       "  <thead>\n",
       "    <tr style=\"text-align: right;\">\n",
       "      <th></th>\n",
       "      <th>LightningTime</th>\n",
       "      <th>Latitude</th>\n",
       "      <th>Longitude</th>\n",
       "      <th>Height</th>\n",
       "      <th>FlashType</th>\n",
       "      <th>Amplitude</th>\n",
       "      <th>geometry</th>\n",
       "    </tr>\n",
       "  </thead>\n",
       "  <tbody>\n",
       "    <tr>\n",
       "      <th>0</th>\n",
       "      <td>2022-06-01T11:39:46.020149513</td>\n",
       "      <td>-25.06598</td>\n",
       "      <td>-55.48972</td>\n",
       "      <td>0</td>\n",
       "      <td>0</td>\n",
       "      <td>13177</td>\n",
       "      <td>POINT (-55.48972 -25.06598)</td>\n",
       "    </tr>\n",
       "    <tr>\n",
       "      <th>1</th>\n",
       "      <td>2022-06-01T11:39:47.434044794</td>\n",
       "      <td>-25.63992</td>\n",
       "      <td>-55.01918</td>\n",
       "      <td>7134</td>\n",
       "      <td>1</td>\n",
       "      <td>37518</td>\n",
       "      <td>POINT (-55.01918 -25.63992)</td>\n",
       "    </tr>\n",
       "    <tr>\n",
       "      <th>2</th>\n",
       "      <td>2022-06-01T11:39:49.433415065</td>\n",
       "      <td>-24.87441</td>\n",
       "      <td>-55.40839</td>\n",
       "      <td>0</td>\n",
       "      <td>0</td>\n",
       "      <td>-34234</td>\n",
       "      <td>POINT (-55.40839 -24.87441)</td>\n",
       "    </tr>\n",
       "    <tr>\n",
       "      <th>3</th>\n",
       "      <td>2022-06-01T11:39:50.661510893</td>\n",
       "      <td>-25.89717</td>\n",
       "      <td>-55.13200</td>\n",
       "      <td>4576</td>\n",
       "      <td>1</td>\n",
       "      <td>11893</td>\n",
       "      <td>POINT (-55.13200 -25.89717)</td>\n",
       "    </tr>\n",
       "    <tr>\n",
       "      <th>4</th>\n",
       "      <td>2022-06-01T11:39:56.733833993</td>\n",
       "      <td>-26.41831</td>\n",
       "      <td>-53.60144</td>\n",
       "      <td>12384</td>\n",
       "      <td>1</td>\n",
       "      <td>-3608</td>\n",
       "      <td>POINT (-53.60144 -26.41831)</td>\n",
       "    </tr>\n",
       "    <tr>\n",
       "      <th>...</th>\n",
       "      <td>...</td>\n",
       "      <td>...</td>\n",
       "      <td>...</td>\n",
       "      <td>...</td>\n",
       "      <td>...</td>\n",
       "      <td>...</td>\n",
       "      <td>...</td>\n",
       "    </tr>\n",
       "    <tr>\n",
       "      <th>348</th>\n",
       "      <td>2022-06-01T11:39:41.486678448</td>\n",
       "      <td>-26.12104</td>\n",
       "      <td>-53.56278</td>\n",
       "      <td>16056</td>\n",
       "      <td>1</td>\n",
       "      <td>6413</td>\n",
       "      <td>POINT (-53.56278 -26.12104)</td>\n",
       "    </tr>\n",
       "    <tr>\n",
       "      <th>349</th>\n",
       "      <td>2022-06-01T11:39:41.956948994</td>\n",
       "      <td>-24.80540</td>\n",
       "      <td>-52.70646</td>\n",
       "      <td>15723</td>\n",
       "      <td>1</td>\n",
       "      <td>12861</td>\n",
       "      <td>POINT (-52.70646 -24.80540)</td>\n",
       "    </tr>\n",
       "    <tr>\n",
       "      <th>350</th>\n",
       "      <td>2022-06-01T11:39:42.375866763</td>\n",
       "      <td>-24.47835</td>\n",
       "      <td>-52.88748</td>\n",
       "      <td>0</td>\n",
       "      <td>0</td>\n",
       "      <td>-31497</td>\n",
       "      <td>POINT (-52.88748 -24.47835)</td>\n",
       "    </tr>\n",
       "    <tr>\n",
       "      <th>351</th>\n",
       "      <td>2022-06-01T11:39:42.592462292</td>\n",
       "      <td>-25.70044</td>\n",
       "      <td>-53.42996</td>\n",
       "      <td>0</td>\n",
       "      <td>0</td>\n",
       "      <td>-111198</td>\n",
       "      <td>POINT (-53.42996 -25.70044)</td>\n",
       "    </tr>\n",
       "    <tr>\n",
       "      <th>352</th>\n",
       "      <td>2022-06-01T11:39:45.971641205</td>\n",
       "      <td>-25.91745</td>\n",
       "      <td>-54.17159</td>\n",
       "      <td>8238</td>\n",
       "      <td>1</td>\n",
       "      <td>5036</td>\n",
       "      <td>POINT (-54.17159 -25.91745)</td>\n",
       "    </tr>\n",
       "  </tbody>\n",
       "</table>\n",
       "<p>353 rows × 7 columns</p>\n",
       "</div>"
      ],
      "text/plain": [
       "                     LightningTime  Latitude  Longitude  Height  FlashType  \\\n",
       "0    2022-06-01T11:39:46.020149513 -25.06598  -55.48972       0          0   \n",
       "1    2022-06-01T11:39:47.434044794 -25.63992  -55.01918    7134          1   \n",
       "2    2022-06-01T11:39:49.433415065 -24.87441  -55.40839       0          0   \n",
       "3    2022-06-01T11:39:50.661510893 -25.89717  -55.13200    4576          1   \n",
       "4    2022-06-01T11:39:56.733833993 -26.41831  -53.60144   12384          1   \n",
       "..                             ...       ...        ...     ...        ...   \n",
       "348  2022-06-01T11:39:41.486678448 -26.12104  -53.56278   16056          1   \n",
       "349  2022-06-01T11:39:41.956948994 -24.80540  -52.70646   15723          1   \n",
       "350  2022-06-01T11:39:42.375866763 -24.47835  -52.88748       0          0   \n",
       "351  2022-06-01T11:39:42.592462292 -25.70044  -53.42996       0          0   \n",
       "352  2022-06-01T11:39:45.971641205 -25.91745  -54.17159    8238          1   \n",
       "\n",
       "     Amplitude                     geometry  \n",
       "0        13177  POINT (-55.48972 -25.06598)  \n",
       "1        37518  POINT (-55.01918 -25.63992)  \n",
       "2       -34234  POINT (-55.40839 -24.87441)  \n",
       "3        11893  POINT (-55.13200 -25.89717)  \n",
       "4        -3608  POINT (-53.60144 -26.41831)  \n",
       "..         ...                          ...  \n",
       "348       6413  POINT (-53.56278 -26.12104)  \n",
       "349      12861  POINT (-52.70646 -24.80540)  \n",
       "350     -31497  POINT (-52.88748 -24.47835)  \n",
       "351    -111198  POINT (-53.42996 -25.70044)  \n",
       "352       5036  POINT (-54.17159 -25.91745)  \n",
       "\n",
       "[353 rows x 7 columns]"
      ]
     },
     "execution_count": 12,
     "metadata": {},
     "output_type": "execute_result"
    }
   ],
   "source": [
    "os.chdir(os.path.join(et.io.HOME,'earth-analytics'))\n",
    "descargas_py = pd.read_csv(os.path.join(et.io.HOME,'earth-analytics', 'data','earthpy-downloads','paraguay.csv'))\n",
    "coordinates = gpd.points_from_xy(descargas_py.Longitude, descargas_py.Latitude)\n",
    "descargas_gpd = gpd.GeoDataFrame(data = descargas_py, geometry = coordinates)\n",
    "descargas_gpd"
   ]
  },
  {
   "cell_type": "code",
   "execution_count": 13,
   "id": "1a3bf59e",
   "metadata": {},
   "outputs": [
    {
     "data": {
      "text/plain": [
       "<AxesSubplot:>"
      ]
     },
     "execution_count": 13,
     "metadata": {},
     "output_type": "execute_result"
    },
    {
     "data": {
      "image/png": "[encoded data removed]",
      "text/plain": [
       "<Figure size 432x288 with 1 Axes>"
      ]
     },
     "metadata": {
      "needs_background": "light"
     },
     "output_type": "display_data"
    }
   ],
   "source": [
    "descargas_gpd.plot()"
   ]
  },
  {
   "cell_type": "code",
   "execution_count": 16,
   "id": "be49ea45",
   "metadata": {},
   "outputs": [],
   "source": [
    "#Definiendo funcion heatmap\n",
    "def heatmap(d, bins = (100,100), smoothing = 1.3,cmap ='jet'):\n",
    "    def getx(pt):\n",
    "        return pt.coords[0][0]\n",
    "    def gety(pt):\n",
    "        return pt.coords[0][1]\n",
    "    x = list(d.geometry.apply(getx))\n",
    "    y = list(d.geometry.apply(gety))\n",
    "    heatmap, xedges, yedges, = np.histogram2d(y, x, bins = bins)\n",
    "    extent =[yedges[0],yedges[-1], xedges[-1], xedges[0]]\n",
    "    \n",
    "    logheatmap = np.log(heatmap)\n",
    "    logheatmap[np.isneginf(logheatmap)] = 0\n",
    "    logheatmap = ndimage.filters.gaussian_filter(logheatmap, smoothing,\n",
    "                                                mode='nearest')\n",
    "    \n",
    "    plt.imshow(logheatmap, cmap=cmap, extent=extent)\n",
    "    plt.colorbar()\n",
    "    plt.gca().invert_yaxis()\n",
    "    plt.show()"
   ]
  },
  {
   "cell_type": "code",
   "execution_count": 21,
   "id": "91bc4a96",
   "metadata": {},
   "outputs": [
    {
     "name": "stderr",
     "output_type": "stream",
     "text": [
      "C:\\Users\\AgOvi\\AppData\\Local\\Temp\\ipykernel_16648\\2347655344.py:12: RuntimeWarning: divide by zero encountered in log\n",
      "  logheatmap = np.log(heatmap)\n",
      "C:\\Users\\AgOvi\\AppData\\Local\\Temp\\ipykernel_16648\\2347655344.py:14: DeprecationWarning: Please use `gaussian_filter` from the `scipy.ndimage` namespace, the `scipy.ndimage.filters` namespace is deprecated.\n",
      "  logheatmap = ndimage.filters.gaussian_filter(logheatmap, smoothing,\n"
     ]
    },
    {
     "data": {
      "image/png": "[encoded data removed]",
      "text/plain": [
       "<Figure size 432x288 with 2 Axes>"
      ]
     },
     "metadata": {
      "needs_background": "light"
     },
     "output_type": "display_data"
    }
   ],
   "source": [
    "heatmap(descargas_gpd, bins=100, smoothing=1.5)"
   ]
  }
 ],
 "metadata": {
  "kernelspec": {
   "display_name": "Python 3 (ipykernel)",
   "language": "python",
   "name": "python3"
  },
  "language_info": {
   "codemirror_mode": {
    "name": "ipython",
    "version": 3
   },
   "file_extension": ".py",
   "mimetype": "text/x-python",
   "name": "python",
   "nbconvert_exporter": "python",
   "pygments_lexer": "ipython3",
   "version": "3.8.13"
  }
 },
 "nbformat": 4,
 "nbformat_minor": 5
}
