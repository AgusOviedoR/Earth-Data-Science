{
 "cells": [
  {
   "cell_type": "code",
   "execution_count": 1,
   "id": "ee96f3dc",
   "metadata": {},
   "outputs": [],
   "source": [
    "import matplotlib.pyplot as plt"
   ]
  },
  {
   "cell_type": "code",
   "execution_count": 39,
   "id": "0907cf40",
   "metadata": {},
   "outputs": [
    {
     "data": {
      "image/png": "[encoded data removed]",
      "text/plain": [
       "<Figure size 432x432 with 1 Axes>"
      ]
     },
     "metadata": {
      "needs_background": "light"
     },
     "output_type": "display_data"
    }
   ],
   "source": [
    "boulder_precip_months = ['jan', 'feb', 'mar', 'apr', 'may', 'june', 'july', 'aug', 'sept', 'oct', 'nov', 'dec']\n",
    "boulder_precip_inches = [0.70, 0.75, 1.85, 2.93,3.05,2.02,1.93,1.62,1.84,1.31,1.39,0.84]\n",
    "boulder_precip_mm = []\n",
    "\n",
    "\n",
    "for i in boulder_precip_inches:\n",
    "    boulder_precip_mm.append(i*25.4)\n",
    "boulder_precip_mm\n",
    "\n",
    "all_boulder_data = [boulder_precip_months, boulder_precip_mm]\n",
    "\n",
    "f, ax = plt.subplots(figsize = (6,6))\n",
    "ax.bar(boulder_precip_months, boulder_precip_mm, color = 'aqua')\n",
    "ax.set(title='Boulder data', xlabel = 'Months', ylabel='Precip')\n",
    "plt.show()\n"
   ]
  }
 ],
 "metadata": {
  "kernelspec": {
   "display_name": "Python 3 (ipykernel)",
   "language": "python",
   "name": "python3"
  },
  "language_info": {
   "codemirror_mode": {
    "name": "ipython",
    "version": 3
   },
   "file_extension": ".py",
   "mimetype": "text/x-python",
   "name": "python",
   "nbconvert_exporter": "python",
   "pygments_lexer": "ipython3",
   "version": "3.8.13"
  }
 },
 "nbformat": 4,
 "nbformat_minor": 5
}
