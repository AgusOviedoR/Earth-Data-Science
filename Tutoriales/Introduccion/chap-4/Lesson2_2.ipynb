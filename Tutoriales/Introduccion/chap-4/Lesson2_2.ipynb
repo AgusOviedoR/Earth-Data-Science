{
 "cells": [
  {
   "cell_type": "markdown",
   "id": "154f3abc",
   "metadata": {},
   "source": [
    "## Intro to Earth Analytics - Chapter Four\n",
    "* **Author:** Adriana Agustina Oviedo Rojas\n",
    "* **Date:** August, 6th 2022"
   ]
  },
  {
   "cell_type": "markdown",
   "id": "e3decab0",
   "metadata": {},
   "source": []
  }
 ],
 "metadata": {
  "kernelspec": {
   "display_name": "Python 3 (ipykernel)",
   "language": "python",
   "name": "python3"
  },
  "language_info": {
   "codemirror_mode": {
    "name": "ipython",
    "version": 3
   },
   "file_extension": ".py",
   "mimetype": "text/x-python",
   "name": "python",
   "nbconvert_exporter": "python",
   "pygments_lexer": "ipython3",
   "version": "3.8.13"
  }
 },
 "nbformat": 4,
 "nbformat_minor": 5
}
