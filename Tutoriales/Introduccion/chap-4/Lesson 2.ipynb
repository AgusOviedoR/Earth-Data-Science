{
 "cells": [
  {
   "cell_type": "markdown",
   "id": "816efbac",
   "metadata": {},
   "source": [
    "## My Analysis\n",
    "Here is 'some' text that describes my analysis...\n",
    "1. Data Processing\n",
    "2. Methods\n",
    "3. Results\n",
    "4. Disussion\n",
    "\n",
    "### Heading three\n",
    "#### Heading four\n",
    "\n",
    "* Bullet list\n",
    "* Bullet list\n",
    "\n",
    "`Here is some code!`\n",
    "***\n"
   ]
  }
 ],
 "metadata": {
  "kernelspec": {
   "display_name": "Python 3 (ipykernel)",
   "language": "python",
   "name": "python3"
  },
  "language_info": {
   "codemirror_mode": {
    "name": "ipython",
    "version": 3
   },
   "file_extension": ".py",
   "mimetype": "text/x-python",
   "name": "python",
   "nbconvert_exporter": "python",
   "pygments_lexer": "ipython3",
   "version": "3.8.13"
  }
 },
 "nbformat": 4,
 "nbformat_minor": 5
}
